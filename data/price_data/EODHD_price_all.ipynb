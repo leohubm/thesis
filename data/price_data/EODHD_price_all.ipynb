{
 "cells": [
  {
   "cell_type": "code",
   "execution_count": 10,
   "outputs": [],
   "source": [
    "import requests\n",
    "import csv"
   ],
   "metadata": {
    "collapsed": false,
    "ExecuteTime": {
     "end_time": "2025-07-27T11:52:09.135512Z",
     "start_time": "2025-07-27T11:52:09.116408300Z"
    }
   },
   "id": "2c3dfe91a2fe215d"
  },
  {
   "cell_type": "code",
   "execution_count": 11,
   "outputs": [],
   "source": [
    "API_KEY = 'key'"
   ],
   "metadata": {
    "collapsed": false,
    "ExecuteTime": {
     "end_time": "2025-07-27T11:52:09.491246900Z",
     "start_time": "2025-07-27T11:52:09.465207200Z"
    }
   },
   "id": "f45e24b2f23cda75"
  },
  {
   "cell_type": "markdown",
   "source": [
    "Bitcoin"
   ],
   "metadata": {
    "collapsed": false
   },
   "id": "7ba73f0f51212887"
  },
  {
   "cell_type": "code",
   "execution_count": 12,
   "outputs": [],
   "source": [
    "SYMBOL = 'btc-usd.cc'\n",
    "FROM_DATE = '2009-01-01'\n",
    "TO_DATE = '2025-07-25'"
   ],
   "metadata": {
    "collapsed": false,
    "ExecuteTime": {
     "end_time": "2025-07-27T11:52:11.506751600Z",
     "start_time": "2025-07-27T11:52:11.488125Z"
    }
   },
   "id": "initial_id"
  },
  {
   "cell_type": "code",
   "execution_count": 13,
   "outputs": [
    {
     "name": "stdout",
     "output_type": "stream",
     "text": [
      "Data saved to bitcoin_2009_2025current.csv\n"
     ]
    }
   ],
   "source": [
    "url = f'https://eodhd.com/api/eod/{SYMBOL}'\n",
    "params = {\n",
    "    'api_token': API_KEY,\n",
    "    'from': FROM_DATE,\n",
    "    'to': TO_DATE,\n",
    "    'period': 'd',\n",
    "    'fmt': 'json'\n",
    "}\n",
    "\n",
    "response = requests.get(url, params=params)\n",
    "\n",
    "if response.status_code == 200:\n",
    "    data = response.json()\n",
    "\n",
    "    # Save to CSV\n",
    "    with open('bitcoin_2009_2025current.csv', 'w', newline='') as f:\n",
    "        writer = csv.DictWriter(f, fieldnames=data[0].keys())\n",
    "        writer.writeheader()\n",
    "        writer.writerows(data)\n",
    "\n",
    "    print(\"Data saved to bitcoin_2009_2025current.csv\")\n",
    "else:\n",
    "    print(f\"Failed to fetch data: {response.status_code}, {response.text}\")"
   ],
   "metadata": {
    "collapsed": false,
    "ExecuteTime": {
     "end_time": "2025-07-27T11:52:14.255503600Z",
     "start_time": "2025-07-27T11:52:12.825036500Z"
    }
   },
   "id": "8090764bce53abd"
  },
  {
   "cell_type": "markdown",
   "source": [
    "S&P 500"
   ],
   "metadata": {
    "collapsed": false
   },
   "id": "7d4510179377e58f"
  },
  {
   "cell_type": "code",
   "execution_count": 7,
   "outputs": [],
   "source": [
    "SYMBOL = 'GSPC.INDX'\n",
    "FROM_DATE = '2020-01-01'\n",
    "TO_DATE = '2025-03-31'"
   ],
   "metadata": {
    "collapsed": false,
    "ExecuteTime": {
     "end_time": "2025-07-27T11:49:31.801583800Z",
     "start_time": "2025-07-27T11:49:31.774146300Z"
    }
   },
   "id": "9966ebe892e41830"
  },
  {
   "cell_type": "code",
   "execution_count": 8,
   "outputs": [
    {
     "name": "stdout",
     "output_type": "stream",
     "text": [
      "Data saved to sp500_2020_2025.csv\n"
     ]
    }
   ],
   "source": [
    "url = f'https://eodhd.com/api/eod/{SYMBOL}'\n",
    "params = {\n",
    "    'api_token': API_KEY,\n",
    "    'from': FROM_DATE,\n",
    "    'to': TO_DATE,\n",
    "    'period': 'd',\n",
    "    'fmt': 'json'\n",
    "}\n",
    "\n",
    "response = requests.get(url, params=params)\n",
    "\n",
    "if response.status_code == 200:\n",
    "    data = response.json()\n",
    "\n",
    "    # Save to CSV\n",
    "    with open('sp500_2020_2025.csv', 'w', newline='') as f:\n",
    "        writer = csv.DictWriter(f, fieldnames=data[0].keys())\n",
    "        writer.writeheader()\n",
    "        writer.writerows(data)\n",
    "\n",
    "    print(\"Data saved to sp500_2020_2025.csv\")\n",
    "else:\n",
    "    print(f\"Failed to fetch data: {response.status_code}, {response.text}\")"
   ],
   "metadata": {
    "collapsed": false,
    "ExecuteTime": {
     "end_time": "2025-07-27T11:49:33.087136600Z",
     "start_time": "2025-07-27T11:49:32.218306600Z"
    }
   },
   "id": "2be981013bf18751"
  },
  {
   "cell_type": "code",
   "execution_count": null,
   "outputs": [],
   "source": [],
   "metadata": {
    "collapsed": false
   },
   "id": "73dfa16abc5f9659"
  }
 ],
 "metadata": {
  "kernelspec": {
   "display_name": "Python 3",
   "language": "python",
   "name": "python3"
  },
  "language_info": {
   "codemirror_mode": {
    "name": "ipython",
    "version": 2
   },
   "file_extension": ".py",
   "mimetype": "text/x-python",
   "name": "python",
   "nbconvert_exporter": "python",
   "pygments_lexer": "ipython2",
   "version": "2.7.6"
  }
 },
 "nbformat": 4,
 "nbformat_minor": 5
}
