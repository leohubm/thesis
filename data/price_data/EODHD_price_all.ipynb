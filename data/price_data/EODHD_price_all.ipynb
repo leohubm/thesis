{
 "cells": [
  {
   "cell_type": "code",
   "execution_count": 1,
   "outputs": [],
   "source": [
    "import requests\n",
    "import csv"
   ],
   "metadata": {
    "collapsed": false,
    "ExecuteTime": {
     "end_time": "2025-06-28T11:43:01.440394600Z",
     "start_time": "2025-06-28T11:43:01.251459700Z"
    }
   },
   "id": "2c3dfe91a2fe215d"
  },
  {
   "cell_type": "code",
   "execution_count": 2,
   "outputs": [],
   "source": [
    "API_KEY = 'key'"
   ],
   "metadata": {
    "collapsed": false,
    "ExecuteTime": {
     "end_time": "2025-06-28T11:43:14.639994900Z",
     "start_time": "2025-06-28T11:43:14.621299700Z"
    }
   },
   "id": "f45e24b2f23cda75"
  },
  {
   "cell_type": "markdown",
   "source": [
    "Bitcoin"
   ],
   "metadata": {
    "collapsed": false
   },
   "id": "7ba73f0f51212887"
  },
  {
   "cell_type": "code",
   "execution_count": 3,
   "outputs": [],
   "source": [
    "SYMBOL = 'btc-usd.cc'\n",
    "FROM_DATE = '2009-01-01'\n",
    "TO_DATE = '2025-03-31'"
   ],
   "metadata": {
    "collapsed": false,
    "ExecuteTime": {
     "end_time": "2025-06-28T11:43:16.591897400Z",
     "start_time": "2025-06-28T11:43:16.578034300Z"
    }
   },
   "id": "initial_id"
  },
  {
   "cell_type": "code",
   "execution_count": null,
   "outputs": [],
   "source": [
    "url = f'https://eodhd.com/api/eod/{SYMBOL}'\n",
    "params = {\n",
    "    'api_token': API_KEY,\n",
    "    'from': FROM_DATE,\n",
    "    'to': TO_DATE,\n",
    "    'period': 'd',\n",
    "    'fmt': 'json'\n",
    "}\n",
    "\n",
    "response = requests.get(url, params=params)\n",
    "\n",
    "if response.status_code == 200:\n",
    "    data = response.json()\n",
    "\n",
    "    # Save to CSV\n",
    "    with open('sp500_2021_2024.csv', 'w', newline='') as f:\n",
    "        writer = csv.DictWriter(f, fieldnames=data[0].keys())\n",
    "        writer.writeheader()\n",
    "        writer.writerows(data)\n",
    "\n",
    "    print(\"Data saved to bitcoin_2009_2025.csv\")\n",
    "else:\n",
    "    print(f\"Failed to fetch data: {response.status_code}, {response.text}\")"
   ],
   "metadata": {
    "collapsed": false
   },
   "id": "8090764bce53abd"
  },
  {
   "cell_type": "markdown",
   "source": [
    "S&P 500"
   ],
   "metadata": {
    "collapsed": false
   },
   "id": "7d4510179377e58f"
  },
  {
   "cell_type": "code",
   "execution_count": 10,
   "outputs": [],
   "source": [
    "SYMBOL = 'GSPC.INDX'\n",
    "FROM_DATE = '2020-01-01'\n",
    "TO_DATE = '2025-03-31'"
   ],
   "metadata": {
    "collapsed": false,
    "ExecuteTime": {
     "end_time": "2025-06-28T11:45:42.463664100Z",
     "start_time": "2025-06-28T11:45:42.428199300Z"
    }
   },
   "id": "9966ebe892e41830"
  },
  {
   "cell_type": "code",
   "execution_count": 11,
   "outputs": [
    {
     "name": "stdout",
     "output_type": "stream",
     "text": [
      "Data saved to sp500_2020_2025.csv\n"
     ]
    }
   ],
   "source": [
    "url = f'https://eodhd.com/api/eod/{SYMBOL}'\n",
    "params = {\n",
    "    'api_token': API_KEY,\n",
    "    'from': FROM_DATE,\n",
    "    'to': TO_DATE,\n",
    "    'period': 'd',\n",
    "    'fmt': 'json'\n",
    "}\n",
    "\n",
    "response = requests.get(url, params=params)\n",
    "\n",
    "if response.status_code == 200:\n",
    "    data = response.json()\n",
    "\n",
    "    # Save to CSV\n",
    "    with open('sp500_2020_2025.csv', 'w', newline='') as f:\n",
    "        writer = csv.DictWriter(f, fieldnames=data[0].keys())\n",
    "        writer.writeheader()\n",
    "        writer.writerows(data)\n",
    "\n",
    "    print(\"Data saved to sp500_2020_2025.csv\")\n",
    "else:\n",
    "    print(f\"Failed to fetch data: {response.status_code}, {response.text}\")"
   ],
   "metadata": {
    "collapsed": false,
    "ExecuteTime": {
     "end_time": "2025-06-28T11:45:43.978583100Z",
     "start_time": "2025-06-28T11:45:43.004233300Z"
    }
   },
   "id": "2be981013bf18751"
  },
  {
   "cell_type": "code",
   "execution_count": null,
   "outputs": [],
   "source": [],
   "metadata": {
    "collapsed": false
   },
   "id": "73dfa16abc5f9659"
  }
 ],
 "metadata": {
  "kernelspec": {
   "display_name": "Python 3",
   "language": "python",
   "name": "python3"
  },
  "language_info": {
   "codemirror_mode": {
    "name": "ipython",
    "version": 2
   },
   "file_extension": ".py",
   "mimetype": "text/x-python",
   "name": "python",
   "nbconvert_exporter": "python",
   "pygments_lexer": "ipython2",
   "version": "2.7.6"
  }
 },
 "nbformat": 4,
 "nbformat_minor": 5
}
