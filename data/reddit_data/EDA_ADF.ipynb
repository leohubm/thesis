{
 "cells": [
  {
   "cell_type": "code",
   "execution_count": 2,
   "id": "initial_id",
   "metadata": {
    "collapsed": true,
    "ExecuteTime": {
     "end_time": "2025-06-13T15:18:53.085260600Z",
     "start_time": "2025-06-13T15:18:52.237831700Z"
    }
   },
   "outputs": [],
   "source": [
    "import pandas as pd\n",
    "import numpy as np\n",
    "from statsmodels.tsa.stattools import adfuller"
   ]
  },
  {
   "cell_type": "code",
   "execution_count": 9,
   "outputs": [],
   "source": [
    "# load price\n",
    "file_path_price = r'C:\\Users\\Leo Hubmann\\Desktop\\thesis\\data\\price_data\\bitcoin_2021_2024.csv'\n",
    "df_price = pd.read_csv(file_path_price, parse_dates=['date'], low_memory=False).set_index('date')\n",
    "\n",
    "btc = df_price.loc['2021-01-01':'2024-12-31'].copy()\n",
    "daily_ret = np.log(btc['close']).diff().dropna()"
   ],
   "metadata": {
    "collapsed": false,
    "ExecuteTime": {
     "end_time": "2025-06-13T15:29:57.326750900Z",
     "start_time": "2025-06-13T15:29:57.279661Z"
    }
   },
   "id": "5bb2aa0c8714e2de"
  },
  {
   "cell_type": "code",
   "execution_count": 10,
   "outputs": [],
   "source": [
    "# load sentiment\n",
    "vader_path   = r'C:\\Users\\Leo Hubmann\\Desktop\\BachelorThesis_data\\all_daily_vader_sentiment_v2.csv'\n",
    "finbert_path = r'C:\\Users\\Leo Hubmann\\Desktop\\BachelorThesis_data\\all_daily_finbert_sentiment_v4.csv'\n",
    "\n",
    "df_v = pd.read_csv(vader_path,   parse_dates=['date']).set_index('date')\n",
    "df_f = pd.read_csv(finbert_path, parse_dates=['date']).set_index('date')"
   ],
   "metadata": {
    "collapsed": false,
    "ExecuteTime": {
     "end_time": "2025-06-13T15:29:58.049575900Z",
     "start_time": "2025-06-13T15:29:58.002304Z"
    }
   },
   "id": "14ce01e296b005e"
  },
  {
   "cell_type": "code",
   "execution_count": 11,
   "outputs": [],
   "source": [
    "df = pd.concat(\n",
    "    {\n",
    "        'btc_ret' : daily_ret,\n",
    "        'vader'   : df_v['daily_vader_sentiment'],\n",
    "        'finbert' : df_f['daily_finbert_score'],\n",
    "    },\n",
    "    axis=1\n",
    ").dropna()\n",
    "\n",
    "df['vader_z']     = (df['vader']   - df['vader'].mean())   / df['vader'].std(ddof=0)\n",
    "df['finbert_z']   = (df['finbert'] - df['finbert'].mean()) / df['finbert'].std(ddof=0)\n",
    "df['composite_z'] = df[['vader_z', 'finbert_z']].mean(axis=1)"
   ],
   "metadata": {
    "collapsed": false,
    "ExecuteTime": {
     "end_time": "2025-06-13T15:29:58.704184200Z",
     "start_time": "2025-06-13T15:29:58.609902700Z"
    }
   },
   "id": "6759fff8bdb9a176"
  },
  {
   "cell_type": "code",
   "execution_count": null,
   "outputs": [],
   "source": [
    "print(df.info)"
   ],
   "metadata": {
    "collapsed": false
   },
   "id": "b848de61bad78c57"
  },
  {
   "cell_type": "code",
   "execution_count": 24,
   "outputs": [
    {
     "name": "stdout",
     "output_type": "stream",
     "text": [
      "\n",
      " DAILY FREQUENCY \n"
     ]
    },
    {
     "data": {
      "text/plain": "            Series  ADF stat  p-value  5% crit  Conclusion\n0  BTC_log_returns   -39.478    0.000   -2.864  Stationary\n1          VADER_z    -4.447    0.000   -2.864  Stationary\n2        FinBERT_z    -4.595    0.000   -2.864  Stationary\n3      Composite_z    -4.252    0.001   -2.864  Stationary",
      "text/html": "<div>\n<style scoped>\n    .dataframe tbody tr th:only-of-type {\n        vertical-align: middle;\n    }\n\n    .dataframe tbody tr th {\n        vertical-align: top;\n    }\n\n    .dataframe thead th {\n        text-align: right;\n    }\n</style>\n<table border=\"1\" class=\"dataframe\">\n  <thead>\n    <tr style=\"text-align: right;\">\n      <th></th>\n      <th>Series</th>\n      <th>ADF stat</th>\n      <th>p-value</th>\n      <th>5% crit</th>\n      <th>Conclusion</th>\n    </tr>\n  </thead>\n  <tbody>\n    <tr>\n      <th>0</th>\n      <td>BTC_log_returns</td>\n      <td>-39.478</td>\n      <td>0.000</td>\n      <td>-2.864</td>\n      <td>Stationary</td>\n    </tr>\n    <tr>\n      <th>1</th>\n      <td>VADER_z</td>\n      <td>-4.447</td>\n      <td>0.000</td>\n      <td>-2.864</td>\n      <td>Stationary</td>\n    </tr>\n    <tr>\n      <th>2</th>\n      <td>FinBERT_z</td>\n      <td>-4.595</td>\n      <td>0.000</td>\n      <td>-2.864</td>\n      <td>Stationary</td>\n    </tr>\n    <tr>\n      <th>3</th>\n      <td>Composite_z</td>\n      <td>-4.252</td>\n      <td>0.001</td>\n      <td>-2.864</td>\n      <td>Stationary</td>\n    </tr>\n  </tbody>\n</table>\n</div>"
     },
     "metadata": {},
     "output_type": "display_data"
    }
   ],
   "source": [
    "def adf_test(series_dict):\n",
    "    rows = []\n",
    "    for name, ser in series_dict.items():\n",
    "        adf_stat, p, lags, n, crit, _ = adfuller(ser, autolag='AIC')\n",
    "        rows.append([name,\n",
    "                     round(adf_stat, 3),\n",
    "                     round(p, 3),\n",
    "                     round(crit['5%'], 3),\n",
    "                     'Stationary' if p < 0.05 else 'Non-stationary'])\n",
    "    return pd.DataFrame(rows,\n",
    "                        columns=['Series', 'ADF stat', 'p-value', '5% crit', 'Conclusion'])\n",
    "\n",
    "daily_res = adf_test({\n",
    "    'BTC_log_returns' : df['btc_ret'],\n",
    "    'VADER_z'         : df['vader_z'],\n",
    "    'FinBERT_z'       : df['finbert_z'],\n",
    "    'Composite_z'     : df['composite_z']\n",
    "})\n",
    "\n",
    "print(\"\\n DAILY FREQUENCY \")\n",
    "display(daily_res)"
   ],
   "metadata": {
    "collapsed": false,
    "ExecuteTime": {
     "end_time": "2025-06-13T15:53:31.119958500Z",
     "start_time": "2025-06-13T15:53:30.909717400Z"
    }
   },
   "id": "c389818f275c6634"
  },
  {
   "cell_type": "code",
   "execution_count": 22,
   "outputs": [
    {
     "name": "stdout",
     "output_type": "stream",
     "text": [
      "\n",
      " WEEKLY FREQUENCY\n"
     ]
    },
    {
     "data": {
      "text/plain": "          Series  ADF stat  p-value  5% crit  Conclusion\n0  BTC_log_ret_W   -14.741    0.000   -2.875  Stationary\n1      VADER_z_W    -4.993    0.000   -2.876  Stationary\n2    FinBERT_z_W    -3.767    0.003   -2.876  Stationary\n3  Composite_z_W    -3.905    0.002   -2.876  Stationary",
      "text/html": "<div>\n<style scoped>\n    .dataframe tbody tr th:only-of-type {\n        vertical-align: middle;\n    }\n\n    .dataframe tbody tr th {\n        vertical-align: top;\n    }\n\n    .dataframe thead th {\n        text-align: right;\n    }\n</style>\n<table border=\"1\" class=\"dataframe\">\n  <thead>\n    <tr style=\"text-align: right;\">\n      <th></th>\n      <th>Series</th>\n      <th>ADF stat</th>\n      <th>p-value</th>\n      <th>5% crit</th>\n      <th>Conclusion</th>\n    </tr>\n  </thead>\n  <tbody>\n    <tr>\n      <th>0</th>\n      <td>BTC_log_ret_W</td>\n      <td>-14.741</td>\n      <td>0.000</td>\n      <td>-2.875</td>\n      <td>Stationary</td>\n    </tr>\n    <tr>\n      <th>1</th>\n      <td>VADER_z_W</td>\n      <td>-4.993</td>\n      <td>0.000</td>\n      <td>-2.876</td>\n      <td>Stationary</td>\n    </tr>\n    <tr>\n      <th>2</th>\n      <td>FinBERT_z_W</td>\n      <td>-3.767</td>\n      <td>0.003</td>\n      <td>-2.876</td>\n      <td>Stationary</td>\n    </tr>\n    <tr>\n      <th>3</th>\n      <td>Composite_z_W</td>\n      <td>-3.905</td>\n      <td>0.002</td>\n      <td>-2.876</td>\n      <td>Stationary</td>\n    </tr>\n  </tbody>\n</table>\n</div>"
     },
     "metadata": {},
     "output_type": "display_data"
    }
   ],
   "source": [
    "weekly = df.resample('W-MON').mean()\n",
    "weekly_res = adf_test({\n",
    "    'BTC_log_ret_W'  : weekly['btc_ret'],\n",
    "    'VADER_z_W'      : weekly['vader_z'],\n",
    "    'FinBERT_z_W'    : weekly['finbert_z'],\n",
    "    'Composite_z_W'  : weekly['composite_z']\n",
    "})\n",
    "\n",
    "print(\"\\n WEEKLY FREQUENCY\")\n",
    "display(weekly_res)"
   ],
   "metadata": {
    "collapsed": false,
    "ExecuteTime": {
     "end_time": "2025-06-13T15:42:09.294808800Z",
     "start_time": "2025-06-13T15:42:09.219919200Z"
    }
   },
   "id": "1b45526e9f170460"
  },
  {
   "cell_type": "code",
   "execution_count": null,
   "outputs": [],
   "source": [],
   "metadata": {
    "collapsed": false
   },
   "id": "3d4b333ff32f449"
  }
 ],
 "metadata": {
  "kernelspec": {
   "display_name": "Python 3",
   "language": "python",
   "name": "python3"
  },
  "language_info": {
   "codemirror_mode": {
    "name": "ipython",
    "version": 2
   },
   "file_extension": ".py",
   "mimetype": "text/x-python",
   "name": "python",
   "nbconvert_exporter": "python",
   "pygments_lexer": "ipython2",
   "version": "2.7.6"
  }
 },
 "nbformat": 4,
 "nbformat_minor": 5
}
