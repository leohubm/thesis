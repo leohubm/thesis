{
 "cells": [
  {
   "cell_type": "code",
   "execution_count": null,
   "id": "initial_id",
   "metadata": {
    "collapsed": true
   },
   "outputs": [],
   "source": [
    "import pandas as pd"
   ]
  },
  {
   "cell_type": "code",
   "execution_count": null,
   "outputs": [],
   "source": [
    "path = r\"C:\\Users\\Leo Hubmann\\Desktop\\BachelorThesis_data\\Bitcoin_comments_filtered_vader_20250425_093952.csv\"\n",
    "\n",
    "df = pd.read_csv(path, low_memory=False)"
   ],
   "metadata": {
    "collapsed": false
   },
   "id": "40821db283f5bab7"
  },
  {
   "cell_type": "markdown",
   "source": [
    "Basic Info about the dataset"
   ],
   "metadata": {
    "collapsed": false
   },
   "id": "c136588d4eb0c77c"
  },
  {
   "cell_type": "code",
   "execution_count": null,
   "outputs": [],
   "source": [
    "print(df.info())"
   ],
   "metadata": {
    "collapsed": false
   },
   "id": "c6b849b96d876f98"
  },
  {
   "cell_type": "code",
   "execution_count": null,
   "outputs": [],
   "source": [
    "print(df.head())"
   ],
   "metadata": {
    "collapsed": false
   },
   "id": "606b46aac3f69283"
  },
  {
   "cell_type": "code",
   "execution_count": null,
   "outputs": [],
   "source": [
    "#print(df.isnull().sum())\n",
    "print(df.notnull())"
   ],
   "metadata": {
    "collapsed": false
   },
   "id": "602fd2088b4746ab"
  },
  {
   "cell_type": "code",
   "execution_count": null,
   "outputs": [],
   "source": [
    "df['created'] = pd.to_datetime(df['created'], errors='coerce')\n",
    "print(df['created'].min(), \"→\", df['created'].max())"
   ],
   "metadata": {
    "collapsed": false
   },
   "id": "60d0622739723f77"
  }
 ],
 "metadata": {
  "kernelspec": {
   "display_name": "Python 3",
   "language": "python",
   "name": "python3"
  },
  "language_info": {
   "codemirror_mode": {
    "name": "ipython",
    "version": 2
   },
   "file_extension": ".py",
   "mimetype": "text/x-python",
   "name": "python",
   "nbconvert_exporter": "python",
   "pygments_lexer": "ipython2",
   "version": "2.7.6"
  }
 },
 "nbformat": 4,
 "nbformat_minor": 5
}
