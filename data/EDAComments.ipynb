{
 "cells": [
  {
   "cell_type": "code",
   "execution_count": 1,
   "id": "initial_id",
   "metadata": {
    "collapsed": true,
    "ExecuteTime": {
     "end_time": "2025-05-07T08:44:53.311582Z",
     "start_time": "2025-05-07T08:44:50.820367300Z"
    }
   },
   "outputs": [],
   "source": [
    "import pandas as pd"
   ]
  },
  {
   "cell_type": "code",
   "execution_count": 4,
   "outputs": [],
   "source": [
    "#path = r\"C:\\Users\\Leo Hubmann\\Desktop\\BachelorThesis_data\\A_FINBERT\\BitcoinFINBERT\\Bitcoin_submissions_finbert_preprocessed_20250425_142802_finbert_analyzed.csv\"\n",
    "\n",
    "#path = r\"C:\\Users\\Leo Hubmann\\Desktop\\BachelorThesis_data\\A_FINBERT\\CryptoCurrencyFINBERT\\CryptoCurrency_submissions_finbert_preprocessed_20250425_142002_finbert_analyzed.csv\"\n",
    "\n",
    "path = r\"C:\\Users\\Leo Hubmann\\Desktop\\BachelorThesis_data\\A_FINBERT\\CryptoCurrencyFINBERT\\CryptoCurrency_comments_finbert_preprocessed_20250503_175536_finbert_analyzed.csv\"\n",
    "\n",
    "\n",
    "\n",
    "df = pd.read_csv(path, low_memory=False)"
   ],
   "metadata": {
    "collapsed": false,
    "ExecuteTime": {
     "end_time": "2025-05-07T08:46:22.119085200Z",
     "start_time": "2025-05-07T08:46:07.791795500Z"
    }
   },
   "id": "40821db283f5bab7"
  },
  {
   "cell_type": "markdown",
   "source": [
    "Basic Info about the dataset"
   ],
   "metadata": {
    "collapsed": false
   },
   "id": "c136588d4eb0c77c"
  },
  {
   "cell_type": "code",
   "execution_count": 5,
   "outputs": [
    {
     "name": "stdout",
     "output_type": "stream",
     "text": [
      "<class 'pandas.core.frame.DataFrame'>\n",
      "RangeIndex: 1872487 entries, 0 to 1872486\n",
      "Data columns (total 9 columns):\n",
      " #   Column                 Dtype  \n",
      "---  ------                 -----  \n",
      " 0   author                 object \n",
      " 1   score                  int64  \n",
      " 2   link                   object \n",
      " 3   created                object \n",
      " 4   text_to_analyze        object \n",
      " 5   finbert_sentiment      object \n",
      " 6   finbert_prob_positive  float64\n",
      " 7   finbert_prob_negative  float64\n",
      " 8   finbert_prob_neutral   float64\n",
      "dtypes: float64(3), int64(1), object(5)\n",
      "memory usage: 128.6+ MB\n",
      "None\n"
     ]
    }
   ],
   "source": [
    "print(df.info())"
   ],
   "metadata": {
    "collapsed": false,
    "ExecuteTime": {
     "end_time": "2025-05-07T08:47:19.190873400Z",
     "start_time": "2025-05-07T08:47:19.166818600Z"
    }
   },
   "id": "c6b849b96d876f98"
  },
  {
   "cell_type": "code",
   "execution_count": 6,
   "outputs": [
    {
     "name": "stdout",
     "output_type": "stream",
     "text": [
      "               author  score  \\\n",
      "0  u/CleazyCatalystAD      7   \n",
      "1         u/[deleted]     -1   \n",
      "2    u/tic_douloureux     -2   \n",
      "3    u/poopymcpoppy12      1   \n",
      "4    u/JimCramersCoke      3   \n",
      "\n",
      "                                                link              created  \\\n",
      "0  https://www.reddit.com/r/CryptoCurrency/commen...  2021-01-01 01:01:00   \n",
      "1  https://www.reddit.com/r/CryptoCurrency/commen...  2021-01-01 01:03:00   \n",
      "2  https://www.reddit.com/r/CryptoCurrency/commen...  2021-01-01 01:03:00   \n",
      "3  https://www.reddit.com/r/CryptoCurrency/commen...  2021-01-01 01:06:00   \n",
      "4  https://www.reddit.com/r/CryptoCurrency/commen...  2021-01-01 01:06:00   \n",
      "\n",
      "                                     text_to_analyze finbert_sentiment  \\\n",
      "0  btc 70 eth 30 institutional is more interested...           neutral   \n",
      "1  im not talking about regulating the market im ...           neutral   \n",
      "2  and im totally ok with this knowledge ampx200b...           neutral   \n",
      "3  but in the meantime youre just sitting there w...           neutral   \n",
      "4               hoping btc will break 100k next year          positive   \n",
      "\n",
      "   finbert_prob_positive  finbert_prob_negative  finbert_prob_neutral  \n",
      "0               0.129743               0.015653              0.854604  \n",
      "1               0.028651               0.041522              0.929827  \n",
      "2               0.064324               0.033088              0.902588  \n",
      "3               0.040462               0.023073              0.936466  \n",
      "4               0.686167               0.020465              0.293368  \n"
     ]
    }
   ],
   "source": [
    "print(df.head())"
   ],
   "metadata": {
    "collapsed": false,
    "ExecuteTime": {
     "end_time": "2025-05-07T08:47:36.733655800Z",
     "start_time": "2025-05-07T08:47:36.722781400Z"
    }
   },
   "id": "606b46aac3f69283"
  },
  {
   "cell_type": "code",
   "execution_count": 7,
   "outputs": [
    {
     "name": "stdout",
     "output_type": "stream",
     "text": [
      "         author  score  link  created  text_to_analyze  finbert_sentiment  \\\n",
      "0          True   True  True     True             True               True   \n",
      "1          True   True  True     True             True               True   \n",
      "2          True   True  True     True             True               True   \n",
      "3          True   True  True     True             True               True   \n",
      "4          True   True  True     True             True               True   \n",
      "...         ...    ...   ...      ...              ...                ...   \n",
      "1872482    True   True  True     True             True               True   \n",
      "1872483    True   True  True     True             True               True   \n",
      "1872484    True   True  True     True             True               True   \n",
      "1872485    True   True  True     True             True               True   \n",
      "1872486    True   True  True     True             True               True   \n",
      "\n",
      "         finbert_prob_positive  finbert_prob_negative  finbert_prob_neutral  \n",
      "0                         True                   True                  True  \n",
      "1                         True                   True                  True  \n",
      "2                         True                   True                  True  \n",
      "3                         True                   True                  True  \n",
      "4                         True                   True                  True  \n",
      "...                        ...                    ...                   ...  \n",
      "1872482                   True                   True                  True  \n",
      "1872483                   True                   True                  True  \n",
      "1872484                   True                   True                  True  \n",
      "1872485                   True                   True                  True  \n",
      "1872486                   True                   True                  True  \n",
      "\n",
      "[1872487 rows x 9 columns]\n"
     ]
    }
   ],
   "source": [
    "#print(df.isnull().sum())\n",
    "print(df.notnull())"
   ],
   "metadata": {
    "collapsed": false,
    "ExecuteTime": {
     "end_time": "2025-05-07T08:48:02.484453600Z",
     "start_time": "2025-05-07T08:48:01.868504800Z"
    }
   },
   "id": "602fd2088b4746ab"
  },
  {
   "cell_type": "code",
   "execution_count": 8,
   "outputs": [
    {
     "name": "stdout",
     "output_type": "stream",
     "text": [
      "author                   0\n",
      "score                    0\n",
      "link                     0\n",
      "created                  0\n",
      "text_to_analyze          0\n",
      "finbert_sentiment        0\n",
      "finbert_prob_positive    0\n",
      "finbert_prob_negative    0\n",
      "finbert_prob_neutral     0\n",
      "dtype: int64\n"
     ]
    }
   ],
   "source": [
    "print(df.isnull().sum())"
   ],
   "metadata": {
    "collapsed": false,
    "ExecuteTime": {
     "end_time": "2025-05-07T08:48:11.221662900Z",
     "start_time": "2025-05-07T08:48:10.583735200Z"
    }
   },
   "id": "7be7114119478282"
  },
  {
   "cell_type": "code",
   "execution_count": 9,
   "outputs": [
    {
     "name": "stdout",
     "output_type": "stream",
     "text": [
      "[['u/CointestMod' 1\n",
      "  'https://www.reddit.com/r/CryptoCurrency/comments/14eg7lo/13_years_ago_the_btc_faucet_had_started_to_give/jov518s/'\n",
      "  '2023-06-20 20:45:00'\n",
      "  'bitcoin proarguments below is an argument written by creeptoecurrentsea which won 3rd place in the bitcoin proarguments topic for a prior cointestwikicointestpolicy round submit an argument in the cointest yourself and earn moons if you win moon prizes are 3rd 600 2nd 300 3rd 150 and best analysis 500 bitcoin is a peertopeer digital currency that can be transferred via the bitcoin network bitcoin transactions are cryptographically verified by network nodes and recorded in a public distributed ledger known as a blockchain the cryptocurrency was created in 2008 by an unknown individual or group of individuals using the alias satoshi nakamoto 1 pros its decentralized decentralization is the process through which an organizations operations are disseminated or delegated away from a central authoritative location or group specifically those related to decisionmaking and planning 2 one of the core assets of bitcoin is that it is decentralized meaning 1 no need for a central authority 2 no need for centralized servers peer to peer network 3 ledger is distributed and public 4 anyone can be a bitcoin miner 5 anyone can create a bitcoin address 6 anyone can do a transaction without needing approval from a centralized source provides privacy bitcoin is a pseudonymous currency which means that funds are not connected to realworld entities but rather to bitcoin addresses if you were to own a bitcoin address there would be no known connection between your identity and that of the address but all transactions will be public although it is possible but hardly that bad actors may identify your address via correlating the transactions you made you can increase privacy by creating another address security bitcoin operates through what is called a proof of work algorithm which is a type of cryptographic proof in which one party the prover demonstrates to others the verifiers that a specific amount of computational effort has been expended in bitcoin miners compete to append blocks and mint new currency each miner experiencing a success probability proportional to the computational effort expended miners in bitcoin are tasked to validate a transaction by solving a complex problem the total combined total computational power of these miners combines is whats called a hashrate the hashrate is an important metric for assessing the security of the network the more machines dedicated to discovering the next block by honest miners the higher the hashrate rises and the more difficult it becomes for malicious agents to disrupt the network 3 4 5 scarcity there will only be 21 million bitcoins in existence once all of bitcoin has been mined there will no more issuance of new bitcoins and this give it this certain trait of scarcity like precious metals without the difficulty of portability and also the same traits of durability 5 6 the coin that started it all by this time everybody knows why and how bitcoin how its mysterious maker just vanished from the scene and how its purpose still echoes as a reminder that power of selfcustody is never too late to remove ourselves from being too dependent of centralized bodies that often times go beyond what we allow them to do to this day bitcoin still stands as number one coin by marketcap and will probably stay that way for a very long time sources would you like to learn more click herecommentsxsvuv to be taken to the original topicthread for this argument or you can scan through the cointest archivewikicointestarchivewikibitcoin to find arguments on this topic in other rounds pros and cons per topic will likely change for every new post'\n",
      "  'neutral' 0.0229381788522005 0.0493927337229251 0.9276691675186156]\n",
      " ['u/Ok-Aspect-805' 1\n",
      "  'https://www.reddit.com/r/CryptoCurrency/comments/15ok8jx/one_of_the_first_already_in_2011_bitcoin_was/jvtyrxa/'\n",
      "  '2023-08-12 06:40:00'\n",
      "  'yeah understandable the first couple years but after 14 years of higher highs and higher lows only an idiot would call bitcoin “dead” and there are plenty of idiots'\n",
      "  'neutral' 0.0826592296361923 0.1684114784002304 0.7489292025566101]\n",
      " ['u/[deleted]' 2\n",
      "  'https://www.reddit.com/r/CryptoCurrency/comments/qcomod/investors_flee_gold_for_cryptocurrencies_as/hhh49wz/'\n",
      "  '2021-10-21 12:34:00' 'very good for bitcoin market bullish' 'positive'\n",
      "  0.8334054350852966 0.0107203051447868 0.1558742374181747]\n",
      " ['u/twoRay' 2\n",
      "  'https://www.reddit.com/r/CryptoCurrency/comments/na7nfh/resources_for_news_and_information/gxtwknq/'\n",
      "  '2021-05-12 10:01:00'\n",
      "  'if you really want to know more about blockchain then there is no way around not reading a book the internet and its free stuff can only get you that much books that i liked were the basics of btc and blockchain and the internet of money that being said some universities offer free blockchain courses there are a bunch of threads about it that you can quickly find'\n",
      "  'neutral' 0.0392416939139366 0.035562265664339 0.92519611120224]\n",
      " ['u/Littlefinger_13' 1\n",
      "  'https://www.reddit.com/r/CryptoCurrency/comments/153c1x8/how_many_people_actually_utilize_a_coin_in_your/jsipmbz/'\n",
      "  '2023-07-19 01:15:00'\n",
      "  'this is a very important topic you mentioned the achilles heel of crypto right now is that most people use it only as a speculative investment and not using the blockchains that they belong for crypto to gain a more respectful reputation it needs to onboard more users and when i say users i dont mean traders or people that just buy a coin at x price leave it in an exchange and then sell it at xy price to make a profit we need people that will become users of the blockchains that they like personally i have used btc to transfer value donations and i am a big fan and user of cardano i am using its defi and nft space nearly every day and i have used it to transfer value to people close to me also on the utility side i have read books using its blockchain by the nft project book io lastly i would like to utilize more the ethereum network but its fees are out of my league'\n",
      "  'neutral' 0.0472547933459281 0.0318778604269027 0.9208673238754272]]\n"
     ]
    }
   ],
   "source": [
    "print(df.sample(5).values)"
   ],
   "metadata": {
    "collapsed": false,
    "ExecuteTime": {
     "end_time": "2025-05-07T08:48:13.935155900Z",
     "start_time": "2025-05-07T08:48:13.861129300Z"
    }
   },
   "id": "2a7d1c4a901c2e71"
  },
  {
   "cell_type": "code",
   "execution_count": 10,
   "outputs": [
    {
     "ename": "TypeError",
     "evalue": "'tuple' object is not callable",
     "output_type": "error",
     "traceback": [
      "\u001B[1;31m---------------------------------------------------------------------------\u001B[0m",
      "\u001B[1;31mTypeError\u001B[0m                                 Traceback (most recent call last)",
      "Cell \u001B[1;32mIn[10], line 1\u001B[0m\n\u001B[1;32m----> 1\u001B[0m \u001B[38;5;28mprint\u001B[39m(\u001B[43mdf\u001B[49m\u001B[38;5;241;43m.\u001B[39;49m\u001B[43mshape\u001B[49m\u001B[43m(\u001B[49m\u001B[43m)\u001B[49m)\n",
      "\u001B[1;31mTypeError\u001B[0m: 'tuple' object is not callable"
     ]
    }
   ],
   "source": [
    "print(df.shape())"
   ],
   "metadata": {
    "collapsed": false,
    "ExecuteTime": {
     "end_time": "2025-05-07T09:29:19.152418900Z",
     "start_time": "2025-05-07T09:29:19.137953800Z"
    }
   },
   "id": "7ca612e5e24a38d0"
  },
  {
   "cell_type": "code",
   "execution_count": 11,
   "outputs": [
    {
     "name": "stdout",
     "output_type": "stream",
     "text": [
      "2021-01-01 01:01:00 → 2025-01-01 00:54:00\n"
     ]
    }
   ],
   "source": [
    "df['created'] = pd.to_datetime(df['created'], errors='coerce')\n",
    "print(df['created'].min(), \"→\", df['created'].max())"
   ],
   "metadata": {
    "collapsed": false,
    "ExecuteTime": {
     "end_time": "2025-05-07T09:29:23.654229200Z",
     "start_time": "2025-05-07T09:29:23.634223600Z"
    }
   },
   "id": "60d0622739723f77"
  },
  {
   "cell_type": "code",
   "execution_count": null,
   "outputs": [],
   "source": [],
   "metadata": {
    "collapsed": false
   },
   "id": "8b7959a434a1962a"
  }
 ],
 "metadata": {
  "kernelspec": {
   "display_name": "Python 3",
   "language": "python",
   "name": "python3"
  },
  "language_info": {
   "codemirror_mode": {
    "name": "ipython",
    "version": 2
   },
   "file_extension": ".py",
   "mimetype": "text/x-python",
   "name": "python",
   "nbconvert_exporter": "python",
   "pygments_lexer": "ipython2",
   "version": "2.7.6"
  }
 },
 "nbformat": 4,
 "nbformat_minor": 5
}
