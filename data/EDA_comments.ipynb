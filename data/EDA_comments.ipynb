{
 "cells": [
  {
   "cell_type": "code",
   "execution_count": 1,
   "id": "initial_id",
   "metadata": {
    "collapsed": true,
    "ExecuteTime": {
     "end_time": "2025-05-29T13:23:28.493736800Z",
     "start_time": "2025-05-29T13:23:28.487015800Z"
    }
   },
   "outputs": [],
   "source": [
    "import pandas as pd"
   ]
  },
  {
   "cell_type": "code",
   "execution_count": 9,
   "outputs": [],
   "source": [
    "#path = r\"C:\\Users\\Leo Hubmann\\Desktop\\BachelorThesis_data\\A_FINBERT\\BitcoinFINBERT\\Bitcoin_submissions_finbert_preprocessed_20250425_142802_finbert_analyzed.csv\"\n",
    "\n",
    "# path = r\"C:\\Users\\Leo Hubmann\\Desktop\\BachelorThesis_data\\A_FINBERT\\CryptoCurrencyFINBERT\\CryptoCurrency_submissions_finbert_preprocessed_20250425_142002_finbert_analyzed.csv\"\n",
    "\n",
    "#path = r\"C:\\Users\\Leo Hubmann\\Desktop\\BachelorThesis_data\\A_FINBERT\\CryptoCurrencyFINBERT\\CryptoCurrency_comments_finbert_preprocessed_20250503_175536_finbert_analyzed.csv\"\n",
    "\n",
    "# Bitcoin_comments_finbert_preprocessed_20250503_173153\n",
    "\n",
    "path = r\"C:\\Users\\Leo Hubmann\\Desktop\\BachelorThesis_data\\A_FINBERT\\BitcoinFINBERT\\preprocessed\\Bitcoin_comments_finbert_preprocessed_20250503_173153.csv\"\n",
    "\n",
    "# path = r\"C:\\Users\\Leo Hubmann\\Desktop\\BachelorThesis_data\\A_FINBERT\\BitcoinFINBERT\\Bitcoin_comments_finbert_preprocessed_20250503_173153_finbert_analyzed.csv\"\n",
    "\n",
    "df = pd.read_csv(path, low_memory=False)"
   ],
   "metadata": {
    "collapsed": false,
    "ExecuteTime": {
     "end_time": "2025-05-08T12:24:30.873161700Z",
     "start_time": "2025-05-08T12:23:37.691878400Z"
    }
   },
   "id": "40821db283f5bab7"
  },
  {
   "cell_type": "markdown",
   "source": [
    "Basic Info about the dataset"
   ],
   "metadata": {
    "collapsed": false
   },
   "id": "c136588d4eb0c77c"
  },
  {
   "cell_type": "code",
   "execution_count": 10,
   "outputs": [
    {
     "name": "stdout",
     "output_type": "stream",
     "text": [
      "<class 'pandas.core.frame.DataFrame'>\n",
      "RangeIndex: 6336680 entries, 0 to 6336679\n",
      "Data columns (total 5 columns):\n",
      " #   Column           Dtype \n",
      "---  ------           ----- \n",
      " 0   author           object\n",
      " 1   score            int64 \n",
      " 2   link             object\n",
      " 3   created          object\n",
      " 4   text_to_analyze  object\n",
      "dtypes: int64(1), object(4)\n",
      "memory usage: 241.7+ MB\n",
      "None\n"
     ]
    }
   ],
   "source": [
    "print(df.info())"
   ],
   "metadata": {
    "collapsed": false,
    "ExecuteTime": {
     "end_time": "2025-05-08T12:24:44.958491300Z",
     "start_time": "2025-05-08T12:24:44.910587Z"
    }
   },
   "id": "c6b849b96d876f98"
  },
  {
   "cell_type": "code",
   "execution_count": 4,
   "outputs": [
    {
     "name": "stdout",
     "output_type": "stream",
     "text": [
      "         author  score                                               link  \\\n",
      "0   u/andreasma      5  https://www.reddit.com/r/Bitcoin/comments/knch...   \n",
      "1   u/[deleted]      1  https://www.reddit.com/r/Bitcoin/comments/km3g...   \n",
      "2  u/IceCl4nHat      3  https://www.reddit.com/r/Bitcoin/comments/ko0a...   \n",
      "3   u/[deleted]      1  https://www.reddit.com/r/Bitcoin/comments/km3g...   \n",
      "4    u/zefy_zef      1  https://www.reddit.com/r/Bitcoin/comments/knmp...   \n",
      "\n",
      "               created                                    text_to_analyze  \\\n",
      "0  2021-01-01 01:00:00  i understand what youre saying perhaps i shoul...   \n",
      "1  2021-01-01 01:00:00                                            deleted   \n",
      "2  2021-01-01 01:00:00      they have electrum on ios too edit they don’t   \n",
      "3  2021-01-01 01:01:00                                            removed   \n",
      "4  2021-01-01 01:01:00  look at this guy being invited to a new years ...   \n",
      "\n",
      "  finbert_sentiment  finbert_prob_positive  finbert_prob_negative  \\\n",
      "0           neutral               0.027882               0.090114   \n",
      "1           neutral               0.079999               0.041914   \n",
      "2           neutral               0.041504               0.021121   \n",
      "3           neutral               0.043788               0.044343   \n",
      "4           neutral               0.054873               0.026899   \n",
      "\n",
      "   finbert_prob_neutral  \n",
      "0              0.882004  \n",
      "1              0.878087  \n",
      "2              0.937376  \n",
      "3              0.911869  \n",
      "4              0.918228  \n"
     ]
    }
   ],
   "source": [
    "print(df.head())"
   ],
   "metadata": {
    "collapsed": false,
    "ExecuteTime": {
     "end_time": "2025-05-08T12:21:31.104252100Z",
     "start_time": "2025-05-08T12:21:30.959698600Z"
    }
   },
   "id": "606b46aac3f69283"
  },
  {
   "cell_type": "code",
   "execution_count": 5,
   "outputs": [
    {
     "name": "stdout",
     "output_type": "stream",
     "text": [
      "         author  score  link  created  text_to_analyze  finbert_sentiment  \\\n",
      "0          True   True  True     True             True               True   \n",
      "1          True   True  True     True             True               True   \n",
      "2          True   True  True     True             True               True   \n",
      "3          True   True  True     True             True               True   \n",
      "4          True   True  True     True             True               True   \n",
      "...         ...    ...   ...      ...              ...                ...   \n",
      "6336675    True   True  True     True             True               True   \n",
      "6336676    True   True  True     True             True               True   \n",
      "6336677    True   True  True     True             True               True   \n",
      "6336678    True   True  True     True             True               True   \n",
      "6336679    True   True  True     True             True               True   \n",
      "\n",
      "         finbert_prob_positive  finbert_prob_negative  finbert_prob_neutral  \n",
      "0                         True                   True                  True  \n",
      "1                         True                   True                  True  \n",
      "2                         True                   True                  True  \n",
      "3                         True                   True                  True  \n",
      "4                         True                   True                  True  \n",
      "...                        ...                    ...                   ...  \n",
      "6336675                   True                   True                  True  \n",
      "6336676                   True                   True                  True  \n",
      "6336677                   True                   True                  True  \n",
      "6336678                   True                   True                  True  \n",
      "6336679                   True                   True                  True  \n",
      "\n",
      "[6336680 rows x 9 columns]\n"
     ]
    }
   ],
   "source": [
    "#print(df.isnull().sum())\n",
    "print(df.notnull())"
   ],
   "metadata": {
    "collapsed": false,
    "ExecuteTime": {
     "end_time": "2025-05-08T12:21:47.309119700Z",
     "start_time": "2025-05-08T12:21:44.604552900Z"
    }
   },
   "id": "602fd2088b4746ab"
  },
  {
   "cell_type": "code",
   "execution_count": 6,
   "outputs": [
    {
     "name": "stdout",
     "output_type": "stream",
     "text": [
      "author                   0\n",
      "score                    0\n",
      "link                     0\n",
      "created                  0\n",
      "text_to_analyze          0\n",
      "finbert_sentiment        0\n",
      "finbert_prob_positive    0\n",
      "finbert_prob_negative    0\n",
      "finbert_prob_neutral     0\n",
      "dtype: int64\n"
     ]
    }
   ],
   "source": [
    "print(df.isnull().sum())"
   ],
   "metadata": {
    "collapsed": false,
    "ExecuteTime": {
     "end_time": "2025-05-08T12:21:52.469959100Z",
     "start_time": "2025-05-08T12:21:49.755598600Z"
    }
   },
   "id": "7be7114119478282"
  },
  {
   "cell_type": "code",
   "execution_count": 7,
   "outputs": [
    {
     "name": "stdout",
     "output_type": "stream",
     "text": [
      "[['u/ExpressionPlane725' 2\n",
      "  'https://www.reddit.com/r/Bitcoin/comments/p9l07a/serious_questionwhy_ever_sell_bitcoin_for_cash/h9zhbqx/'\n",
      "  '2021-08-23 04:22:00'\n",
      "  'ok thank you was just curious does this apply to transferring other coins around if one coin had a good week but i think it’s short lived then can i transfer that dollar amount of that coin to say buy bitcoin without tax'\n",
      "  'neutral' 0.0599165372550487 0.0217422861605882 0.9183412194252014]\n",
      " ['u/Elly0xCrypto' 1\n",
      "  'https://www.reddit.com/r/Bitcoin/comments/1ej3hal/how_does_btc_change_your_behavior/lgccpde/'\n",
      "  '2024-08-03 21:21:00'\n",
      "  'it makes me to not think about the material stuff' 'neutral'\n",
      "  0.0305026397109031 0.355216234922409 0.614281177520752]\n",
      " ['u/Bwrobes' 1\n",
      "  'https://www.reddit.com/r/Bitcoin/comments/nbpjg8/elons_just_a_troll_right/gy12shq/'\n",
      "  '2021-05-13 23:50:00'\n",
      "  'true if i sold a company for like 100m i likely would just retire… not starting a new project that would be significantly easier with 100m rather than 0 or investor money'\n",
      "  'neutral' 0.0478323064744472 0.0356287695467472 0.916538953781128]\n",
      " ['u/ianyboo' 1\n",
      "  'https://www.reddit.com/r/Bitcoin/comments/u1lp05/white_house_press_secretary_jen_psaki_attempts_to/i4fuyxl/'\n",
      "  '2022-04-12 17:37:00'\n",
      "  'i know you are probably just trolling but in case anyone is reading who is actually an honest actor a person can lie 70 times in one speech fairly easily then if you were running the numbers you might say he lied 70 times last week the problem is when some moron comes and tries to dubiously extrapolate thats you and say something like oh so you are saying he lied exactly ten times per day seems highly implausible'\n",
      "  'neutral' 0.0269358437508344 0.4015242755413055 0.5715398192405701]\n",
      " ['u/A1l3e1x6' 1\n",
      "  'https://www.reddit.com/r/Bitcoin/comments/r8qxkg/bitcoin_drops_9k_in_an_hour_on_spot_market/hnb1ego/'\n",
      "  '2021-12-05 10:20:00'\n",
      "  'a great move man they are aware of the potential of btc' 'positive'\n",
      "  0.8084505200386047 0.0072268680669367 0.1843225657939911]]\n"
     ]
    }
   ],
   "source": [
    "print(df.sample(5).values)"
   ],
   "metadata": {
    "collapsed": false,
    "ExecuteTime": {
     "end_time": "2025-05-08T12:21:56.764456700Z",
     "start_time": "2025-05-08T12:21:55.787812100Z"
    }
   },
   "id": "2a7d1c4a901c2e71"
  },
  {
   "cell_type": "code",
   "execution_count": 11,
   "outputs": [
    {
     "name": "stdout",
     "output_type": "stream",
     "text": [
      "2021-01-01 01:01:00 → 2025-01-01 00:54:00\n"
     ]
    }
   ],
   "source": [
    "df['created'] = pd.to_datetime(df['created'], errors='coerce')\n",
    "print(df['created'].min(), \"→\", df['created'].max())"
   ],
   "metadata": {
    "collapsed": false,
    "ExecuteTime": {
     "end_time": "2025-05-07T09:29:23.654229200Z",
     "start_time": "2025-05-07T09:29:23.634223600Z"
    }
   },
   "id": "60d0622739723f77"
  },
  {
   "cell_type": "code",
   "execution_count": 2,
   "outputs": [],
   "source": [
    "import pandas as pd"
   ],
   "metadata": {
    "collapsed": false,
    "ExecuteTime": {
     "end_time": "2025-05-28T11:35:05.911271300Z",
     "start_time": "2025-05-28T11:35:05.883041400Z"
    }
   },
   "id": "8b7959a434a1962a"
  },
  {
   "cell_type": "code",
   "execution_count": 10,
   "outputs": [],
   "source": [
    "path = r\"C:\\Users\\Leo Hubmann\\Desktop\\BachelorThesis_data\\CryptoCurrency_submissions.csv\"\n",
    "\n",
    "df = pd.read_csv(path, low_memory=False)"
   ],
   "metadata": {
    "collapsed": false,
    "ExecuteTime": {
     "end_time": "2025-05-28T11:43:37.769206800Z",
     "start_time": "2025-05-28T11:43:24.772413400Z"
    }
   },
   "id": "d42b1c177d449cd0"
  },
  {
   "cell_type": "code",
   "execution_count": 11,
   "outputs": [
    {
     "name": "stdout",
     "output_type": "stream",
     "text": [
      "<class 'pandas.core.frame.DataFrame'>\n",
      "RangeIndex: 1259989 entries, 0 to 1259988\n",
      "Data columns (total 7 columns):\n",
      " #   Column   Non-Null Count    Dtype \n",
      "---  ------   --------------    ----- \n",
      " 0   author   1259989 non-null  object\n",
      " 1   title    1259980 non-null  object\n",
      " 2   score    1259989 non-null  int64 \n",
      " 3   created  1259989 non-null  object\n",
      " 4   link     1259989 non-null  object\n",
      " 5   text     872721 non-null   object\n",
      " 6   url      1218726 non-null  object\n",
      "dtypes: int64(1), object(6)\n",
      "memory usage: 67.3+ MB\n",
      "None\n"
     ]
    }
   ],
   "source": [
    "print(df.info())"
   ],
   "metadata": {
    "collapsed": false,
    "ExecuteTime": {
     "end_time": "2025-05-28T11:43:40.967335600Z",
     "start_time": "2025-05-28T11:43:40.621231700Z"
    }
   },
   "id": "69675ee18415b704"
  },
  {
   "cell_type": "code",
   "execution_count": 19,
   "outputs": [],
   "source": [
    "path = r\"C:\\Users\\Leo Hubmann\\Desktop\\BachelorThesis_data\\A_FINBERT\\BitcoinFINBERT\\preprocessed\\Bitcoin_submissions_finbert_preprocessed_20250425_142802.csv\"\n",
    "\n",
    "df = pd.read_csv(path, low_memory=False)"
   ],
   "metadata": {
    "collapsed": false,
    "ExecuteTime": {
     "end_time": "2025-05-28T17:49:30.975830200Z",
     "start_time": "2025-05-28T17:49:28.274616300Z"
    }
   },
   "id": "762718892c3619c5"
  },
  {
   "cell_type": "code",
   "execution_count": 20,
   "outputs": [
    {
     "name": "stdout",
     "output_type": "stream",
     "text": [
      "<class 'pandas.core.frame.DataFrame'>\n",
      "RangeIndex: 384151 entries, 0 to 384150\n",
      "Data columns (total 5 columns):\n",
      " #   Column           Non-Null Count   Dtype \n",
      "---  ------           --------------   ----- \n",
      " 0   author           384151 non-null  object\n",
      " 1   score            384151 non-null  int64 \n",
      " 2   link             384151 non-null  object\n",
      " 3   created          384151 non-null  object\n",
      " 4   text_to_analyze  384151 non-null  object\n",
      "dtypes: int64(1), object(4)\n",
      "memory usage: 14.7+ MB\n",
      "None\n"
     ]
    }
   ],
   "source": [
    "print(df.info())"
   ],
   "metadata": {
    "collapsed": false,
    "ExecuteTime": {
     "end_time": "2025-05-28T17:49:33.413880800Z",
     "start_time": "2025-05-28T17:49:33.319278200Z"
    }
   },
   "id": "c6dc9e7f373920a4"
  },
  {
   "cell_type": "code",
   "execution_count": 35,
   "outputs": [],
   "source": [
    "path = r\"C:\\Users\\Leo Hubmann\\Desktop\\BachelorThesis_data\\A_VADER\\BitcoinVADER\\Bitcoin_comments_filtered_vader_20250425_093952_cleaned_cleaned_v2.csv\"\n",
    "\n",
    "df = pd.read_csv(path, low_memory=False)"
   ],
   "metadata": {
    "collapsed": false,
    "ExecuteTime": {
     "end_time": "2025-05-29T17:41:01.287428600Z",
     "start_time": "2025-05-29T17:40:41.580480400Z"
    }
   },
   "id": "5608bfd5e2f18416"
  },
  {
   "cell_type": "code",
   "execution_count": 24,
   "outputs": [
    {
     "name": "stdout",
     "output_type": "stream",
     "text": [
      "<bound method DataFrame.info of         score              created  \\\n",
      "0          -4  2021-01-01 01:07:00   \n",
      "1          10  2021-01-01 01:09:00   \n",
      "2           1  2021-01-01 01:14:00   \n",
      "3           1  2021-01-01 01:16:00   \n",
      "4           2  2021-01-01 01:21:00   \n",
      "...       ...                  ...   \n",
      "529909      2  2025-01-01 00:27:00   \n",
      "529910      2  2025-01-01 00:27:00   \n",
      "529911      1  2025-01-01 00:33:00   \n",
      "529912      2  2025-01-01 00:35:00   \n",
      "529913      1  2025-01-01 00:58:00   \n",
      "\n",
      "                                          text_to_analyze finbert_sentiment  \\\n",
      "0                                     stupid fud fuck you          negative   \n",
      "1       what car did you buy in 2011 that is still wor...          positive   \n",
      "2                  thanks for doing that much appreciated          positive   \n",
      "3       all we need is for idiot retail buyers to stop...          negative   \n",
      "4             every seller always regrets selling bitcoin          negative   \n",
      "...                                                   ...               ...   \n",
      "529909  we’re not located north of the border they’ll ...          positive   \n",
      "529910  thank you for the moral support the kids are h...          positive   \n",
      "529911  you missed the train sorry op but start stacki...          positive   \n",
      "529912              excellent thanks again for the advice          positive   \n",
      "529913  the only year with a lower low was the year ce...          negative   \n",
      "\n",
      "        finbert_prob_positive  finbert_prob_negative  finbert_prob_neutral  \n",
      "0                    0.034074               0.648033              0.317893  \n",
      "1                    0.486147               0.187159              0.326693  \n",
      "2                    0.764220               0.015861              0.219919  \n",
      "3                    0.027389               0.581347              0.391264  \n",
      "4                    0.016814               0.699089              0.284097  \n",
      "...                       ...                    ...                   ...  \n",
      "529909               0.822877               0.010757              0.166366  \n",
      "529910               0.763695               0.010448              0.225857  \n",
      "529911               0.534010               0.025979              0.440011  \n",
      "529912               0.834505               0.017643              0.147853  \n",
      "529913               0.060164               0.777486              0.162350  \n",
      "\n",
      "[529914 rows x 7 columns]>\n"
     ]
    }
   ],
   "source": [
    "print(df.info)"
   ],
   "metadata": {
    "collapsed": false,
    "ExecuteTime": {
     "end_time": "2025-05-29T17:28:10.221114600Z",
     "start_time": "2025-05-29T17:28:10.201890300Z"
    }
   },
   "id": "5f0844050e1ddff"
  },
  {
   "cell_type": "code",
   "execution_count": 16,
   "outputs": [
    {
     "name": "stdout",
     "output_type": "stream",
     "text": [
      "[[7 '2023-04-08 03:34:00'\n",
      "  'at some point the rate of growth of btc will slow relative to other assets thats when you diversify'\n",
      "  0.0 0.798 0.202 0.5106]\n",
      " [4 '2023-03-24 15:23:00'\n",
      "  'considering this is the last year of 625 block reward and a bull run is expected next year now is the perfect time for miners to ramp up bitmain is still churning out miners in their factory they released the antminer k7 in january with an absolutely insane 635ths and no doubt theyre going to keep being manufactured and deployed bitcoins hashrate just spiked to ath of almost 400 million ths in the past few days from a previous high of 360 and an average closer to 320 seems plausible to me'\n",
      "  0.104 0.824 0.073 -0.2944]\n",
      " [-9 '2024-03-21 11:50:00'\n",
      "  'i just need it to cross 68000 and stop hovering around 67000 so that my leveraged position can be in the green hurts to see red'\n",
      "  0.187 0.813 0.0 -0.6486]\n",
      " [1 '2022-10-27 10:32:00'\n",
      "  'questionable but again who am i to stop you very true i love a good old what if scenario but the problem here isn’t you questioning the future of bitcoin it’s disregarding every counterpoint where those problems get solved in this future of yours by calling it “delusion” it seems that you only can see the “problems” and not the solutions and that my dear boy is “unproductive” “bitcoin is not the magical solution to everything” it kinda is when you understand what problems it solves you think this is just another currency made for you to spend that’s what a currency is to you you think that’s what a currency is to billionaires again bitcoin wasn’t made for you to spend like other currencies it was made to educate you by showing you the true power you have you are value not your 2000 tv your nice pants shoes and shirt'\n",
      "  0.123 0.678 0.199 0.96]\n",
      " [1 '2024-02-02 16:17:00'\n",
      "  'rationale the stated reason for the order was that hard times had caused hoarding of gold stalling economic growth and worsening the depression as the us was then using the gold standard for its currency'\n",
      "  0.233 0.706 0.061 -0.743]\n",
      " [2 '2021-10-17 23:10:00'\n",
      "  'see it’s dipping today yet the etf is not out yet the official sec approval is expected but also not out yet so if people are selling today it’s because more think it’ll fall aka they are buying into the sell the news narrative than think it’ll rise when the actual news comes out if the “pros know how to predict amateur moves” shouldn’t they do the opposite of selling which is what the amateurs are doing today'\n",
      "  0.0 0.974 0.026 0.2617]\n",
      " [3 '2021-03-14 08:24:00' 'the weak hands are getting left behind see ya'\n",
      "  0.266 0.734 0.0 -0.4404]\n",
      " [1 '2024-05-10 22:39:00'\n",
      "  'at this stage no they could do a debt jubilee but they wont because holders of bonds are the big banks and the us govt and those banks would likely all go bankrupt they could try to move to a gold or bitcoin standard but then the prices of those assets would sky rocket and they likely dont have near enough to benefit from that govts will as always just keep printing more to cover their debts and desire the fiat currency and try to blame it on the free market somehow ie greedy corporations etc or even its bitcoins fault lol'\n",
      "  0.143 0.714 0.142 0.2263]\n",
      " [1 '2022-06-30 22:42:00'\n",
      "  'i dont believe in 23 inflation as a reson to push people to spend money because poor people spend it anyways on food and stuff but rich people stack their money in stocks bonds etc so money still doesnt really move most of the common folk doesnt even know anything about inflation'\n",
      "  0.037 0.874 0.089 0.5927]\n",
      " [2 '2021-10-11 17:48:00' 'do yourself a favor and dont use coinbase' 0.0\n",
      "  0.69 0.31 0.4019]]\n"
     ]
    }
   ],
   "source": [
    "print(df.sample(10).values)"
   ],
   "metadata": {
    "collapsed": false,
    "ExecuteTime": {
     "end_time": "2025-05-29T13:33:47.938645400Z",
     "start_time": "2025-05-29T13:33:47.809396900Z"
    }
   },
   "id": "2480995182d8b744"
  },
  {
   "cell_type": "code",
   "execution_count": 41,
   "outputs": [
    {
     "name": "stdout",
     "output_type": "stream",
     "text": [
      "         score              created  \\\n",
      "19           1  2021-01-01 01:07:00   \n",
      "1745         1  2021-01-01 11:06:00   \n",
      "1804         5  2021-01-01 11:49:00   \n",
      "2657        -1  2021-01-01 17:15:00   \n",
      "4369         1  2021-01-02 00:58:00   \n",
      "...        ...                  ...   \n",
      "4098206     11  2024-12-30 19:24:00   \n",
      "4098491      2  2024-12-30 20:39:00   \n",
      "4098619      1  2024-12-30 21:17:00   \n",
      "4101138      5  2024-12-31 15:47:00   \n",
      "4102550      1  2025-01-01 00:16:00   \n",
      "\n",
      "                                                                                                                                                                                                           text_to_analyze  \\\n",
      "19       besides andreass videos james deangelo has some great ones too this specifically is one of my alltime favorites it talks about why private keys are so secure highly recommended for anyone interested in bitcoin   \n",
      "1745                                                                                                                                                                                            no party still in lockdown   \n",
      "1804                                                                                                                                                                             knowing elon they’ll also accept dogecoin   \n",
      "2657                                                                                                                                                                 aah brexiteer this definitely explains the retardness   \n",
      "4369                                                                                                                                                                 where did you acquire this wisdom seriously wondering   \n",
      "...                                                                                                                                                                                                                    ...   \n",
      "4098206                                                                                                                                            to be fair better due diligence than most technical analysis these days   \n",
      "4098491                                                                                                                                             normally trezor should be safe you are responsible for the seed backup   \n",
      "4098619                                                                                                                                                                                        do you have the credit card   \n",
      "4101138                                                                                                                                                                                      this is growth in the hodlers   \n",
      "4102550                                                                                                                                                                                                   so the top is in   \n",
      "\n",
      "         vader_neg  vader_neu  vader_pos  vader_compound  \n",
      "19           0.000      0.658      0.342          0.9334  \n",
      "1745         0.278      0.380      0.342          0.1280  \n",
      "1804         0.000      0.658      0.342          0.3818  \n",
      "2657         0.000      0.658      0.342          0.4810  \n",
      "4369         0.145      0.513      0.342          0.5106  \n",
      "...            ...        ...        ...             ...  \n",
      "4098206      0.000      0.658      0.342          0.6369  \n",
      "4098491      0.000      0.658      0.342          0.6369  \n",
      "4098619      0.000      0.658      0.342          0.3818  \n",
      "4101138      0.000      0.658      0.342          0.3818  \n",
      "4102550      0.000      0.658      0.342          0.2682  \n",
      "\n",
      "[2913 rows x 7 columns]\n"
     ]
    }
   ],
   "source": [
    "print(df.loc[df['vader_pos'] == 0.342])"
   ],
   "metadata": {
    "collapsed": false,
    "ExecuteTime": {
     "end_time": "2025-05-29T17:46:22.469923500Z",
     "start_time": "2025-05-29T17:46:22.448001200Z"
    }
   },
   "id": "144e8925679303f2"
  }
 ],
 "metadata": {
  "kernelspec": {
   "display_name": "Python 3",
   "language": "python",
   "name": "python3"
  },
  "language_info": {
   "codemirror_mode": {
    "name": "ipython",
    "version": 2
   },
   "file_extension": ".py",
   "mimetype": "text/x-python",
   "name": "python",
   "nbconvert_exporter": "python",
   "pygments_lexer": "ipython2",
   "version": "2.7.6"
  }
 },
 "nbformat": 4,
 "nbformat_minor": 5
}
