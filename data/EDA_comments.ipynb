{
 "cells": [
  {
   "cell_type": "code",
   "execution_count": 1,
   "id": "initial_id",
   "metadata": {
    "collapsed": true,
    "ExecuteTime": {
     "end_time": "2025-04-24T11:55:01.120393400Z",
     "start_time": "2025-04-24T11:55:00.225621600Z"
    }
   },
   "outputs": [],
   "source": [
    "import pandas as pd"
   ]
  },
  {
   "cell_type": "code",
   "execution_count": 2,
   "outputs": [],
   "source": [
    "path = r\"C:\\Users\\Leo Hubmann\\Desktop\\BachelorThesis_data\\CryptoCurrency_comments.csv\"\n",
    "\n",
    "df = pd.read_csv(path, low_memory=False)"
   ],
   "metadata": {
    "collapsed": false,
    "ExecuteTime": {
     "end_time": "2025-04-24T12:01:27.442771100Z",
     "start_time": "2025-04-24T11:55:03.728212400Z"
    }
   },
   "id": "40821db283f5bab7"
  },
  {
   "cell_type": "code",
   "execution_count": 3,
   "outputs": [
    {
     "name": "stdout",
     "output_type": "stream",
     "text": [
      "<class 'pandas.core.frame.DataFrame'>\n",
      "RangeIndex: 33154922 entries, 0 to 33154921\n",
      "Data columns (total 5 columns):\n",
      " #   Column   Dtype \n",
      "---  ------   ----- \n",
      " 0   author   object\n",
      " 1   score    int64 \n",
      " 2   created  object\n",
      " 3   link     object\n",
      " 4   body     object\n",
      "dtypes: int64(1), object(4)\n",
      "memory usage: 1.2+ GB\n",
      "None\n"
     ]
    }
   ],
   "source": [
    "print(df.info())"
   ],
   "metadata": {
    "collapsed": false,
    "ExecuteTime": {
     "end_time": "2025-04-24T12:02:04.761358900Z",
     "start_time": "2025-04-24T12:02:04.744337300Z"
    }
   },
   "id": "c6b849b96d876f98"
  },
  {
   "cell_type": "code",
   "execution_count": 4,
   "outputs": [
    {
     "name": "stdout",
     "output_type": "stream",
     "text": [
      "                 author  score           created  \\\n",
      "0            u/lomosaur      2  2021-01-01 01:00   \n",
      "1  u/Truffle_Shuffle_85      2  2021-01-01 01:00   \n",
      "2      u/-__-_-__-_-__-      2  2021-01-01 01:00   \n",
      "3  u/JohnDenversCoPilot      5  2021-01-01 01:00   \n",
      "4      u/patrickstar466      2  2021-01-01 01:00   \n",
      "\n",
      "                                                link  \\\n",
      "0  https://www.reddit.com/r/CryptoCurrency/commen...   \n",
      "1  https://www.reddit.com/r/CryptoCurrency/commen...   \n",
      "2  https://www.reddit.com/r/CryptoCurrency/commen...   \n",
      "3  https://www.reddit.com/r/CryptoCurrency/commen...   \n",
      "4  https://www.reddit.com/r/CryptoCurrency/commen...   \n",
      "\n",
      "                                                body  \n",
      "0                                       bout a penny  \n",
      "1  Ya know the SEC is US only. There are like bil...  \n",
      "2  Please, explain how I can’t trust the small pa...  \n",
      "3  If it's on a self custody wallet isn't it tech...  \n",
      "4  The next drop is when the actual delisting occ...  \n"
     ]
    }
   ],
   "source": [
    "print(df.head())"
   ],
   "metadata": {
    "collapsed": false,
    "ExecuteTime": {
     "end_time": "2025-04-24T12:02:16.252597300Z",
     "start_time": "2025-04-24T12:02:16.215486700Z"
    }
   },
   "id": "606b46aac3f69283"
  },
  {
   "cell_type": "code",
   "execution_count": null,
   "outputs": [],
   "source": [],
   "metadata": {
    "collapsed": false
   },
   "id": "602fd2088b4746ab"
  }
 ],
 "metadata": {
  "kernelspec": {
   "display_name": "Python 3",
   "language": "python",
   "name": "python3"
  },
  "language_info": {
   "codemirror_mode": {
    "name": "ipython",
    "version": 2
   },
   "file_extension": ".py",
   "mimetype": "text/x-python",
   "name": "python",
   "nbconvert_exporter": "python",
   "pygments_lexer": "ipython2",
   "version": "2.7.6"
  }
 },
 "nbformat": 4,
 "nbformat_minor": 5
}
