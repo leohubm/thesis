{
 "cells": [
  {
   "cell_type": "code",
   "execution_count": 1,
   "outputs": [],
   "source": [
    "import pandas as pd\n",
    "\n",
    "#path = r\"C:\\Users\\Leo Hubmann\\Desktop\\BachelorThesis_data\\Bitcoin_submissions_bitcoin_filtered_vader_20250424_152719.csv\"\n",
    "\n",
    "#path = r\"C:\\Users\\Leo Hubmann\\Desktop\\BachelorThesis_data\\CryptoCurrency_submissions_bitcoin_filtered_vader_20250424_102921.csv\"\n",
    "\n",
    "#path = r\"C:\\Users\\Leo Hubmann\\Desktop\\BachelorThesis_data\\CryptoCurrency_submissions_bitcoin_filtered_preprocessed_20250424_082156.csv\"\n",
    "\n",
    "#path = r\"C:\\Users\\Leo Hubmann\\Desktop\\BachelorThesis_data\\CryptoCurrency_submissions_finbert_preprocessed_20250425_142002.csv\"\n",
    "\n",
    "# path = r\"C:\\Users\\Leo Hubmann\\Desktop\\BachelorThesis_data\\Bitcoin_submissions_finbert_preprocessed_20250425_142802.csv\"\n",
    "\n",
    "path = r\"C:\\Users\\Leo Hubmann\\Desktop\\BachelorThesis_data\\A_FINBERT\\BitcoinFINBERT\\Bitcoin_submissions_finbert_preprocessed_20250425_142802_finbert_analyzed_no_neutral.csv\"\n",
    "\n",
    "df = pd.read_csv(path, low_memory=False)"
   ],
   "metadata": {
    "collapsed": false,
    "ExecuteTime": {
     "end_time": "2025-06-28T12:04:40.770030200Z",
     "start_time": "2025-06-28T12:04:40.553083800Z"
    }
   },
   "id": "96e5e0b1db9576f0"
  },
  {
   "cell_type": "markdown",
   "source": [
    "Basic Info about the dataset"
   ],
   "metadata": {
    "collapsed": false
   },
   "id": "a30cfd50dafe30f0"
  },
  {
   "cell_type": "code",
   "execution_count": 2,
   "outputs": [
    {
     "name": "stdout",
     "output_type": "stream",
     "text": [
      "<class 'pandas.core.frame.DataFrame'>\n",
      "RangeIndex: 39827 entries, 0 to 39826\n",
      "Data columns (total 7 columns):\n",
      " #   Column                 Non-Null Count  Dtype  \n",
      "---  ------                 --------------  -----  \n",
      " 0   score                  39827 non-null  int64  \n",
      " 1   created                39827 non-null  object \n",
      " 2   text_to_analyze        39827 non-null  object \n",
      " 3   finbert_sentiment      39827 non-null  object \n",
      " 4   finbert_prob_positive  39827 non-null  float64\n",
      " 5   finbert_prob_negative  39827 non-null  float64\n",
      " 6   finbert_prob_neutral   39827 non-null  float64\n",
      "dtypes: float64(3), int64(1), object(3)\n",
      "memory usage: 2.1+ MB\n",
      "None\n"
     ]
    }
   ],
   "source": [
    "print(df.info())"
   ],
   "metadata": {
    "collapsed": false,
    "ExecuteTime": {
     "end_time": "2025-06-28T12:04:44.564725600Z",
     "start_time": "2025-06-28T12:04:44.541230600Z"
    }
   },
   "id": "43f1e29b3496d6fa"
  },
  {
   "cell_type": "code",
   "execution_count": 3,
   "outputs": [
    {
     "name": "stdout",
     "output_type": "stream",
     "text": [
      "   score              created  \\\n",
      "0      1  2021-01-01 01:56:00   \n",
      "1      1  2021-01-01 02:28:00   \n",
      "2      1  2021-01-01 02:32:00   \n",
      "3      1  2021-01-01 02:34:00   \n",
      "4     18  2021-01-01 02:35:00   \n",
      "\n",
      "                                     text_to_analyze finbert_sentiment  \\\n",
      "0                         2020 was the worst deleted          negative   \n",
      "1                         2020 was the worst deleted          negative   \n",
      "2  bitcoin all time high jan 1 2021 great start o...          positive   \n",
      "3  while the average normie enjoying the new year...          negative   \n",
      "4  7 billion “lost” and hodled bitcoin found sinc...          negative   \n",
      "\n",
      "   finbert_prob_positive  finbert_prob_negative  finbert_prob_neutral  \n",
      "0               0.020961               0.838331              0.140708  \n",
      "1               0.020961               0.838331              0.140708  \n",
      "2               0.666176               0.033011              0.300813  \n",
      "3               0.276401               0.506895              0.216704  \n",
      "4               0.027252               0.778409              0.194339  \n"
     ]
    }
   ],
   "source": [
    "print(df.head())"
   ],
   "metadata": {
    "collapsed": false,
    "ExecuteTime": {
     "end_time": "2025-06-28T12:04:45.237845400Z",
     "start_time": "2025-06-28T12:04:45.207867900Z"
    }
   },
   "id": "9a78a0752d2cb01c"
  },
  {
   "cell_type": "code",
   "execution_count": 4,
   "outputs": [
    {
     "name": "stdout",
     "output_type": "stream",
     "text": [
      "score                    0\n",
      "created                  0\n",
      "text_to_analyze          0\n",
      "finbert_sentiment        0\n",
      "finbert_prob_positive    0\n",
      "finbert_prob_negative    0\n",
      "finbert_prob_neutral     0\n",
      "dtype: int64\n"
     ]
    }
   ],
   "source": [
    "print(df.isnull().sum())"
   ],
   "metadata": {
    "collapsed": false,
    "ExecuteTime": {
     "end_time": "2025-06-28T12:04:45.955332900Z",
     "start_time": "2025-06-28T12:04:45.928264800Z"
    }
   },
   "id": "678086e2d98a80ed"
  },
  {
   "cell_type": "code",
   "execution_count": 5,
   "outputs": [
    {
     "name": "stdout",
     "output_type": "stream",
     "text": [
      "[[794 '2023-11-22 21:20:00'\n",
      "  'well it’s been a good run but time to pack it up' 'positive'\n",
      "  0.4911118447780609 0.0406997241079807 0.468188464641571]\n",
      " [0 '2022-06-27 04:29:00'\n",
      "  'bad news dumbasses overhyped bitcoin into another pump and dump removed'\n",
      "  'negative' 0.0228342432528734 0.7499115467071533 0.2272542417049408]\n",
      " [47 '2024-04-19 19:15:00' 'a unique day 2 halving' 'positive'\n",
      "  0.5968905091285706 0.1361179649829864 0.2669914960861206]\n",
      " [1 '2024-01-23 22:13:00'\n",
      "  'coins linked with criminal activities in peer to peer trading removed'\n",
      "  'negative' 0.021270303055644 0.5554300546646118 0.4232996702194214]\n",
      " [1 '2024-03-20 11:53:00'\n",
      "  'the intelligent cryptocurrency affiliate program to make 1000 profit 100 profit guarantee also money back guarantee'\n",
      "  'positive' 0.5463900566101074 0.0123076597228646 0.4413022994995117]]\n"
     ]
    }
   ],
   "source": [
    "print(df.sample(5).values)"
   ],
   "metadata": {
    "collapsed": false,
    "ExecuteTime": {
     "end_time": "2025-06-28T12:04:46.840888400Z",
     "start_time": "2025-06-28T12:04:46.822837100Z"
    }
   },
   "id": "5ddd44be76d6eb9f"
  },
  {
   "cell_type": "markdown",
   "source": [
    "Check date range on dataset"
   ],
   "metadata": {
    "collapsed": false
   },
   "id": "cc8a8f0d9d0efac1"
  },
  {
   "cell_type": "code",
   "execution_count": 6,
   "outputs": [
    {
     "name": "stdout",
     "output_type": "stream",
     "text": [
      "2021-01-01 01:56:00 → 2024-12-31 23:26:00\n"
     ]
    }
   ],
   "source": [
    "df['created'] = pd.to_datetime(df['created'], errors='coerce')\n",
    "print(df['created'].min(), \"→\", df['created'].max())"
   ],
   "metadata": {
    "collapsed": false,
    "ExecuteTime": {
     "end_time": "2025-06-28T12:04:50.492904600Z",
     "start_time": "2025-06-28T12:04:50.444350200Z"
    }
   },
   "id": "7888eae7b9139b3e"
  }
 ],
 "metadata": {
  "kernelspec": {
   "display_name": "Python 3",
   "language": "python",
   "name": "python3"
  },
  "language_info": {
   "codemirror_mode": {
    "name": "ipython",
    "version": 2
   },
   "file_extension": ".py",
   "mimetype": "text/x-python",
   "name": "python",
   "nbconvert_exporter": "python",
   "pygments_lexer": "ipython2",
   "version": "2.7.6"
  }
 },
 "nbformat": 4,
 "nbformat_minor": 5
}
