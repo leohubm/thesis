{
 "cells": [
  {
   "cell_type": "code",
   "execution_count": 8,
   "outputs": [],
   "source": [
    "import pandas as pd\n",
    "\n",
    "#path = r\"C:\\Users\\Leo Hubmann\\Desktop\\BachelorThesis_data\\Bitcoin_submissions_bitcoin_filtered_vader_20250424_152719.csv\"\n",
    "\n",
    "#path = r\"C:\\Users\\Leo Hubmann\\Desktop\\BachelorThesis_data\\CryptoCurrency_submissions_bitcoin_filtered_vader_20250424_102921.csv\"\n",
    "\n",
    "#path = r\"C:\\Users\\Leo Hubmann\\Desktop\\BachelorThesis_data\\CryptoCurrency_submissions_bitcoin_filtered_preprocessed_20250424_082156.csv\"\n",
    "\n",
    "#path = r\"C:\\Users\\Leo Hubmann\\Desktop\\BachelorThesis_data\\CryptoCurrency_submissions_finbert_preprocessed_20250425_142002.csv\"\n",
    "\n",
    "path = r\"C:\\Users\\Leo Hubmann\\Desktop\\BachelorThesis_data\\Bitcoin_submissions_finbert_preprocessed_20250425_142802.csv\"\n",
    "\n",
    "df = pd.read_csv(path, low_memory=False)"
   ],
   "metadata": {
    "collapsed": false,
    "ExecuteTime": {
     "end_time": "2025-04-25T12:30:05.354097400Z",
     "start_time": "2025-04-25T12:30:03.391712500Z"
    }
   },
   "id": "96e5e0b1db9576f0"
  },
  {
   "cell_type": "markdown",
   "source": [
    "Basic Info about the dataset"
   ],
   "metadata": {
    "collapsed": false
   },
   "id": "a30cfd50dafe30f0"
  },
  {
   "cell_type": "code",
   "execution_count": 9,
   "outputs": [
    {
     "name": "stdout",
     "output_type": "stream",
     "text": [
      "<class 'pandas.core.frame.DataFrame'>\n",
      "RangeIndex: 384151 entries, 0 to 384150\n",
      "Data columns (total 5 columns):\n",
      " #   Column           Non-Null Count   Dtype \n",
      "---  ------           --------------   ----- \n",
      " 0   author           384151 non-null  object\n",
      " 1   score            384151 non-null  int64 \n",
      " 2   link             384151 non-null  object\n",
      " 3   created          384151 non-null  object\n",
      " 4   text_to_analyze  384151 non-null  object\n",
      "dtypes: int64(1), object(4)\n",
      "memory usage: 14.7+ MB\n",
      "None\n"
     ]
    }
   ],
   "source": [
    "print(df.info())"
   ],
   "metadata": {
    "collapsed": false,
    "ExecuteTime": {
     "end_time": "2025-04-25T12:30:10.458606200Z",
     "start_time": "2025-04-25T12:30:10.347090500Z"
    }
   },
   "id": "43f1e29b3496d6fa"
  },
  {
   "cell_type": "code",
   "execution_count": 10,
   "outputs": [
    {
     "name": "stdout",
     "output_type": "stream",
     "text": [
      "         author  score  \\\n",
      "0   u/[deleted]      0   \n",
      "1  u/randum-guy      0   \n",
      "2    u/Mari0805    119   \n",
      "3   u/[deleted]      0   \n",
      "4   u/[deleted]      1   \n",
      "\n",
      "                                                                                                  link  \\\n",
      "0                        https://www.reddit.com/r/Bitcoin/comments/ko10pg/first_time_saved_made_money/   \n",
      "1                                     https://www.reddit.com/r/Bitcoin/comments/ko12mk/btc_dip_to_20k/   \n",
      "2     https://www.reddit.com/r/Bitcoin/comments/ko15jt/btc_just_had_the_monthly_and_yearly_close_2020/   \n",
      "3                               https://www.reddit.com/r/Bitcoin/comments/ko171i/i_believe_in_bitcoin/   \n",
      "4  https://www.reddit.com/r/Bitcoin/comments/ko1877/please_help_me_find_a_solution_with_my_btc_wallet/   \n",
      "\n",
      "               created  \\\n",
      "0  2021-01-01 01:00:00   \n",
      "1  2021-01-01 01:02:00   \n",
      "2  2021-01-01 01:07:00   \n",
      "3  2021-01-01 01:10:00   \n",
      "4  2021-01-01 01:12:00   \n",
      "\n",
      "                                                                                                                                                                                          text_to_analyze  \n",
      "0                                                                                                                                                                     first time saved made money deleted  \n",
      "1                       btc dip to 20k is it possible for bitcoin to dip to 20k my bro thinks it’s gonna go to 30k then dip to 20k he sells i should sell it and then buy back the dip to accumulate more  \n",
      "2  btc just had the monthly and yearly close 2020 close was at 28990 lets see what 2021 brings us i predict 2021 will be the year where we will see btc go over 100k not financial advice by the way hodl  \n",
      "3                                                                                                                                                                            i believe in bitcoin deleted  \n",
      "4                                                                                                                                               please help me find a solution with my btc wallet deleted  \n"
     ]
    }
   ],
   "source": [
    "print(df.head())"
   ],
   "metadata": {
    "collapsed": false,
    "ExecuteTime": {
     "end_time": "2025-04-25T12:30:46.768342200Z",
     "start_time": "2025-04-25T12:30:46.761895Z"
    }
   },
   "id": "9a78a0752d2cb01c"
  },
  {
   "cell_type": "code",
   "execution_count": null,
   "outputs": [],
   "source": [
    "print(df.isnull().sum())"
   ],
   "metadata": {
    "collapsed": false
   },
   "id": "678086e2d98a80ed"
  },
  {
   "cell_type": "code",
   "execution_count": 11,
   "outputs": [
    {
     "name": "stdout",
     "output_type": "stream",
     "text": [
      "[['u/[deleted]' 0\n",
      "  'https://www.reddit.com/r/Bitcoin/comments/ko94l5/do_you_know_with_a_minimum_investment_of_50_you/'\n",
      "  '2021-01-01 11:23:00'\n",
      "  'do you know with a minimum investment of 50 you can earn a profit of 525 within 12 days of consistent trading for you in our companys investment platform you dont need to stop your personal work because our professional and qualified traders will trade for you to eliminate loses bitcoinx deleted']\n",
      " ['u/Fit_Rooster2702' 3\n",
      "  'https://www.reddit.com/r/Bitcoin/comments/12z0lda/allowing_creators_to_earn_w_santos_founder_of/'\n",
      "  '2023-04-26 02:05:00'\n",
      "  'allowing creators to earn w santos founder of emeralize clip from start up day satsx at pleb lab']\n",
      " ['u/Nohoula' 12\n",
      "  'https://www.reddit.com/r/Bitcoin/comments/1d12jyr/what_will_be_the_primary_cause_of_mass_bitcoin/'\n",
      "  '2024-05-26 16:27:00'\n",
      "  'what will be the primary cause of mass bitcoin adoption imagine going grocery shopping and you have a credit card price and a bitcoin price so for example your groceries will cost you 20954 if you pay with a card or 20154 if you pay with bitcoin it will be the lower transaction fees that push bitcoin to the next level']\n",
      " ['u/the_gro' 1\n",
      "  'https://www.reddit.com/r/Bitcoin/comments/1c9pjpm/stop_using_cake_wallet_it_contains_virus_and_miner/'\n",
      "  '2024-04-21 20:54:00'\n",
      "  'stop using cake wallet it contains virus and miner stop using cake wallet it contains virus and miner so basically i got a warning in my phone about cake wallet in risky app then i cheak file in virus totally site and found malicious things you guys can cross check by yourself']\n",
      " ['u/Action949' 4\n",
      "  'https://www.reddit.com/r/Bitcoin/comments/12q5n70/would_you_consider_this_sufficient_as_proof_of/'\n",
      "  '2023-04-18 03:43:00'\n",
      "  'would you consider this sufficient as proof of funds im trying to prove to a potential client that we have sufficient btc to pay him in the event we end up owing him funds hes not super familiar with bitcoin but is a reasonably intelligent person we are excited to add him because weve been trying to move existing clients to bitcoin without much luck so adding a new client that is prepared to transact in btc will be a great exercise if someone sent the following to you would you be satisfied that they owed the funds i understand trusting someone to send the funds is a different issue but for now im just trying to prove existence x200b signed message is below if you want to check it yourself please be very careful about what you copy and paste dont get any extra spaces or line breaks before or after the address message or signature x200b address 18mnt5b6yf2jog7m4xu4raubgtiagt8vsh message this is to verify that we have the bitcoin available to pay you action949 signature ilu1a4o9tk8jo4hreglfjd5adrn0e7mkhydlcgj1dnocsqqjjiuf61jeehzcq0g8nwl5dxdanjprkbdic0n2se']]\n"
     ]
    }
   ],
   "source": [
    "print(df.sample(5).values)"
   ],
   "metadata": {
    "collapsed": false,
    "ExecuteTime": {
     "end_time": "2025-04-25T12:31:09.771681900Z",
     "start_time": "2025-04-25T12:31:09.736505900Z"
    }
   },
   "id": "5ddd44be76d6eb9f"
  },
  {
   "cell_type": "markdown",
   "source": [
    "Check date range on dataset"
   ],
   "metadata": {
    "collapsed": false
   },
   "id": "cc8a8f0d9d0efac1"
  },
  {
   "cell_type": "code",
   "execution_count": null,
   "outputs": [],
   "source": [
    "df['created'] = pd.to_datetime(df['created'], errors='coerce')\n",
    "print(df['created'].min(), \"→\", df['created'].max())"
   ],
   "metadata": {
    "collapsed": false
   },
   "id": "7888eae7b9139b3e"
  },
  {
   "cell_type": "markdown",
   "source": [
    "Explore NaN data (only needed if EDA is done on a VADER or finBERT data set)"
   ],
   "metadata": {
    "collapsed": false
   },
   "id": "cd2fb84d473945aa"
  },
  {
   "cell_type": "code",
   "execution_count": null,
   "outputs": [],
   "source": [
    "pd.set_option('display.max_colwidth', None)\n",
    "missing = df[df['vader_compound'].isna()]\n",
    "print(missing.head())"
   ],
   "metadata": {
    "collapsed": false
   },
   "id": "4d09b8cb36d29fa1"
  },
  {
   "cell_type": "code",
   "execution_count": null,
   "outputs": [],
   "source": [
    "df[df.isnull().any(axis=1)].head(10)"
   ],
   "metadata": {
    "collapsed": false
   },
   "id": "bc35ed0dedc98674"
  },
  {
   "cell_type": "code",
   "execution_count": null,
   "outputs": [],
   "source": [
    "missing[['text_to_analyze']].head(-10)"
   ],
   "metadata": {
    "collapsed": false
   },
   "id": "4cf71ad993d3152b"
  },
  {
   "cell_type": "markdown",
   "source": [
    "Explore 0 data"
   ],
   "metadata": {
    "collapsed": false
   },
   "id": "8899d90a2beb8a5c"
  },
  {
   "cell_type": "code",
   "execution_count": null,
   "outputs": [],
   "source": [
    "vader_zero_df = df[df['vader_compound'] == 0]"
   ],
   "metadata": {
    "collapsed": false
   },
   "id": "ff16eabf76f77f4a"
  },
  {
   "cell_type": "code",
   "execution_count": null,
   "outputs": [],
   "source": [
    "vader_zero_df.head(10)"
   ],
   "metadata": {
    "collapsed": false
   },
   "id": "468136ea61ac9b05"
  },
  {
   "cell_type": "code",
   "execution_count": null,
   "outputs": [],
   "source": [
    "df[df['vader_compound'] == 0]['text_to_analyze'].sample(10).tolist()"
   ],
   "metadata": {
    "collapsed": false
   },
   "id": "8c9955caa6980d2e"
  },
  {
   "cell_type": "code",
   "execution_count": null,
   "outputs": [],
   "source": [],
   "metadata": {
    "collapsed": false
   },
   "id": "faafe2a987df5bf1"
  }
 ],
 "metadata": {
  "kernelspec": {
   "display_name": "Python 3",
   "language": "python",
   "name": "python3"
  },
  "language_info": {
   "codemirror_mode": {
    "name": "ipython",
    "version": 2
   },
   "file_extension": ".py",
   "mimetype": "text/x-python",
   "name": "python",
   "nbconvert_exporter": "python",
   "pygments_lexer": "ipython2",
   "version": "2.7.6"
  }
 },
 "nbformat": 4,
 "nbformat_minor": 5
}
