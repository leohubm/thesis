{
 "cells": [
  {
   "cell_type": "code",
   "execution_count": null,
   "outputs": [],
   "source": [
    "import pandas as pd\n",
    "\n",
    "#path = r\"C:\\Users\\Leo Hubmann\\Desktop\\BachelorThesis_data\\Bitcoin_submissions_bitcoin_filtered_vader_20250424_152719.csv\"\n",
    "\n",
    "#path = r\"C:\\Users\\Leo Hubmann\\Desktop\\BachelorThesis_data\\CryptoCurrency_submissions_bitcoin_filtered_vader_20250424_102921.csv\"\n",
    "\n",
    "#path = r\"C:\\Users\\Leo Hubmann\\Desktop\\BachelorThesis_data\\CryptoCurrency_submissions_bitcoin_filtered_preprocessed_20250424_082156.csv\"\n",
    "\n",
    "path = r\"C:\\Users\\Leo Hubmann\\Desktop\\BachelorThesis_data\\CryptoCurrency_submissions_finbert_preprocessed_20250425_142002.csv\"\n",
    "\n",
    "df = pd.read_csv(path, low_memory=False)"
   ],
   "metadata": {
    "collapsed": false
   },
   "id": "96e5e0b1db9576f0"
  },
  {
   "cell_type": "markdown",
   "source": [
    "Basic Info about the dataset"
   ],
   "metadata": {
    "collapsed": false
   },
   "id": "a30cfd50dafe30f0"
  },
  {
   "cell_type": "code",
   "execution_count": null,
   "outputs": [],
   "source": [
    "print(df.info())"
   ],
   "metadata": {
    "collapsed": false
   },
   "id": "43f1e29b3496d6fa"
  },
  {
   "cell_type": "code",
   "execution_count": null,
   "outputs": [],
   "source": [
    "print(df.head())"
   ],
   "metadata": {
    "collapsed": false
   },
   "id": "9a78a0752d2cb01c"
  },
  {
   "cell_type": "code",
   "execution_count": null,
   "outputs": [],
   "source": [
    "print(df.isnull().sum())"
   ],
   "metadata": {
    "collapsed": false
   },
   "id": "678086e2d98a80ed"
  },
  {
   "cell_type": "code",
   "execution_count": null,
   "outputs": [],
   "source": [
    "print(df.sample(5).values)"
   ],
   "metadata": {
    "collapsed": false
   },
   "id": "5ddd44be76d6eb9f"
  },
  {
   "cell_type": "markdown",
   "source": [
    "Check date range on dataset"
   ],
   "metadata": {
    "collapsed": false
   },
   "id": "cc8a8f0d9d0efac1"
  },
  {
   "cell_type": "code",
   "execution_count": null,
   "outputs": [],
   "source": [
    "df['created'] = pd.to_datetime(df['created'], errors='coerce')\n",
    "print(df['created'].min(), \"→\", df['created'].max())"
   ],
   "metadata": {
    "collapsed": false
   },
   "id": "7888eae7b9139b3e"
  },
  {
   "cell_type": "markdown",
   "source": [
    "Explore NaN data (only needed if EDA is done on a VADER or finBERT data set)"
   ],
   "metadata": {
    "collapsed": false
   },
   "id": "cd2fb84d473945aa"
  },
  {
   "cell_type": "code",
   "execution_count": null,
   "outputs": [],
   "source": [
    "pd.set_option('display.max_colwidth', None)\n",
    "missing = df[df['vader_compound'].isna()]\n",
    "print(missing.head())"
   ],
   "metadata": {
    "collapsed": false
   },
   "id": "4d09b8cb36d29fa1"
  },
  {
   "cell_type": "code",
   "execution_count": null,
   "outputs": [],
   "source": [
    "df[df.isnull().any(axis=1)].head(10)"
   ],
   "metadata": {
    "collapsed": false
   },
   "id": "bc35ed0dedc98674"
  },
  {
   "cell_type": "code",
   "execution_count": null,
   "outputs": [],
   "source": [
    "missing[['text_to_analyze']].head(-10)"
   ],
   "metadata": {
    "collapsed": false
   },
   "id": "4cf71ad993d3152b"
  },
  {
   "cell_type": "markdown",
   "source": [
    "Explore 0 data"
   ],
   "metadata": {
    "collapsed": false
   },
   "id": "8899d90a2beb8a5c"
  },
  {
   "cell_type": "code",
   "execution_count": null,
   "outputs": [],
   "source": [
    "vader_zero_df = df[df['vader_compound'] == 0]"
   ],
   "metadata": {
    "collapsed": false
   },
   "id": "ff16eabf76f77f4a"
  },
  {
   "cell_type": "code",
   "execution_count": null,
   "outputs": [],
   "source": [
    "vader_zero_df.head(10)"
   ],
   "metadata": {
    "collapsed": false
   },
   "id": "468136ea61ac9b05"
  },
  {
   "cell_type": "code",
   "execution_count": null,
   "outputs": [],
   "source": [
    "df[df['vader_compound'] == 0]['text_to_analyze'].sample(10).tolist()"
   ],
   "metadata": {
    "collapsed": false
   },
   "id": "8c9955caa6980d2e"
  },
  {
   "cell_type": "code",
   "execution_count": null,
   "outputs": [],
   "source": [],
   "metadata": {
    "collapsed": false
   },
   "id": "faafe2a987df5bf1"
  }
 ],
 "metadata": {
  "kernelspec": {
   "display_name": "Python 3",
   "language": "python",
   "name": "python3"
  },
  "language_info": {
   "codemirror_mode": {
    "name": "ipython",
    "version": 2
   },
   "file_extension": ".py",
   "mimetype": "text/x-python",
   "name": "python",
   "nbconvert_exporter": "python",
   "pygments_lexer": "ipython2",
   "version": "2.7.6"
  }
 },
 "nbformat": 4,
 "nbformat_minor": 5
}
